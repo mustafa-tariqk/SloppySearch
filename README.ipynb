{
 "cells": [
  {
   "cell_type": "markdown",
   "metadata": {},
   "source": [
    "# Yo what's good\n",
    "\n",
    "I tried to make this under 100ms for 1 billion vectors but I'm on a macbook air \n",
    "here so I'm hoping I get cut a break."
   ]
  },
  {
   "cell_type": "code",
   "execution_count": 1,
   "metadata": {},
   "outputs": [],
   "source": [
    "from src import sloppy_search as ss\n",
    "import numpy as np"
   ]
  },
  {
   "cell_type": "code",
   "execution_count": 2,
   "metadata": {},
   "outputs": [],
   "source": [
    "# Initialize variables\n",
    "DB = ss.Database()\n",
    "SIZE = np.int32\n",
    "VECTORS = 2 ** 22 # ~5M\n",
    "DIMENSION = 2 ** 9 # ~500\n",
    "RESULTS = 2 ** 2 # ~5"
   ]
  },
  {
   "cell_type": "code",
   "execution_count": 3,
   "metadata": {},
   "outputs": [],
   "source": [
    "# Generate a query vector\n",
    "query_vector = np.random.uniform(low=np.iinfo(SIZE).min,\n",
    "                                 high=np.iinfo(SIZE).max, \n",
    "                                 size=DIMENSION)"
   ]
  },
  {
   "cell_type": "code",
   "execution_count": 4,
   "metadata": {},
   "outputs": [],
   "source": [
    "# Populate database\n",
    "DB.add_vectors(np.random.uniform(low=np.iinfo(SIZE).min, \n",
    "                                 high=np.iinfo(SIZE).max, \n",
    "                                 size=(VECTORS, DIMENSION)))"
   ]
  },
  {
   "cell_type": "code",
   "execution_count": 5,
   "metadata": {},
   "outputs": [],
   "source": [
    "# Search database, goal - approx 100ms\n",
    "distances, indices = DB.search(query_vector, RESULTS)"
   ]
  },
  {
   "cell_type": "code",
   "execution_count": null,
   "metadata": {},
   "outputs": [],
   "source": [
    "# Output results\n",
    "for i in range(RESULTS):\n",
    "    print(f'Index: {indices[i]}, Distance: {distances[i]}')"
   ]
  }
 ],
 "metadata": {
  "kernelspec": {
   "display_name": "venv",
   "language": "python",
   "name": "python3"
  },
  "language_info": {
   "codemirror_mode": {
    "name": "ipython",
    "version": 3
   },
   "file_extension": ".py",
   "mimetype": "text/x-python",
   "name": "python",
   "nbconvert_exporter": "python",
   "pygments_lexer": "ipython3",
   "version": "3.12.2"
  }
 },
 "nbformat": 4,
 "nbformat_minor": 2
}
