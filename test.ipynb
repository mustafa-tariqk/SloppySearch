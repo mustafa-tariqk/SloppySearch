{
 "cells": [
  {
   "cell_type": "code",
   "execution_count": 8,
   "metadata": {},
   "outputs": [],
   "source": [
    "import sloppy_search as ss\n",
    "import numpy as np"
   ]
  },
  {
   "cell_type": "code",
   "execution_count": 5,
   "metadata": {},
   "outputs": [
    {
     "name": "stdout",
     "output_type": "stream",
     "text": [
      "[0.         1.73205081 1.73205081 3.46410162 3.46410162 5.19615242\n",
      " 5.19615242 6.92820323 6.92820323 8.66025404] [50 49 51 48 52 47 53 46 54 55]\n"
     ]
    }
   ],
   "source": [
    "vectors = [ss.Vector([i, i+1, i+2]) for i in range(10_000_000)]\n",
    "\n",
    "# create a database\n",
    "database = ss.Database()\n",
    "for vector in vectors:\n",
    "    database.add_vector(vector)\n",
    "\n",
    "# create a query vector\n",
    "query_vector = ss.Vector([50, 51, 52])\n",
    "\n",
    "# search the database\n",
    "distances, indices = database.search(query_vector)\n",
    "\n",
    "print(distances, indices)"
   ]
  }
 ],
 "metadata": {
  "kernelspec": {
   "display_name": "venv",
   "language": "python",
   "name": "python3"
  },
  "language_info": {
   "codemirror_mode": {
    "name": "ipython",
    "version": 3
   },
   "file_extension": ".py",
   "mimetype": "text/x-python",
   "name": "python",
   "nbconvert_exporter": "python",
   "pygments_lexer": "ipython3",
   "version": "3.12.2"
  }
 },
 "nbformat": 4,
 "nbformat_minor": 2
}
