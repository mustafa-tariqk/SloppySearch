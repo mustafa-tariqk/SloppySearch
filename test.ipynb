{
 "cells": [
  {
   "cell_type": "code",
   "execution_count": 13,
   "metadata": {},
   "outputs": [],
   "source": [
    "from src import sloppy_search as ss\n",
    "import numpy as np"
   ]
  },
  {
   "cell_type": "code",
   "execution_count": 14,
   "metadata": {},
   "outputs": [],
   "source": [
    "# Initialize variables\n",
    "DB = ss.Database()\n",
    "SIZE = np.int64\n",
    "VECTORS = 2 ** 24\n",
    "DIMENSION = 2 ** 4\n",
    "RESULTS = 2 ** 3"
   ]
  },
  {
   "cell_type": "code",
   "execution_count": 15,
   "metadata": {},
   "outputs": [],
   "source": [
    "# Generate a query vector\n",
    "query_vector = np.random.uniform(low=np.iinfo(SIZE).min,\n",
    "                                 high=np.iinfo(SIZE).max, \n",
    "                                 size=DIMENSION)"
   ]
  },
  {
   "cell_type": "code",
   "execution_count": 16,
   "metadata": {},
   "outputs": [],
   "source": [
    "# Populate database\n",
    "DB.add_vectors(np.random.uniform(low=np.iinfo(SIZE).min, \n",
    "                                 high=np.iinfo(SIZE).max, \n",
    "                                 size=(VECTORS, DIMENSION)))"
   ]
  },
  {
   "cell_type": "code",
   "execution_count": 17,
   "metadata": {},
   "outputs": [],
   "source": [
    "# Search database, goal - approx 100ms\n",
    "distances, indices = DB.search(query_vector, RESULTS)"
   ]
  },
  {
   "cell_type": "code",
   "execution_count": 18,
   "metadata": {},
   "outputs": [],
   "source": [
    "# Save results to a file\n",
    "np.savetxt('output.log', np.column_stack((distances, indices)), \n",
    "           fmt='%.6f %d', \n",
    "           header='distance index')"
   ]
  }
 ],
 "metadata": {
  "kernelspec": {
   "display_name": "venv",
   "language": "python",
   "name": "python3"
  },
  "language_info": {
   "codemirror_mode": {
    "name": "ipython",
    "version": 3
   },
   "file_extension": ".py",
   "mimetype": "text/x-python",
   "name": "python",
   "nbconvert_exporter": "python",
   "pygments_lexer": "ipython3",
   "version": "3.12.2"
  }
 },
 "nbformat": 4,
 "nbformat_minor": 2
}
