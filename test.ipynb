{
 "cells": [
  {
   "cell_type": "code",
   "execution_count": 1,
   "metadata": {},
   "outputs": [],
   "source": [
    "from src import sloppy_search as ss\n",
    "import numpy as np"
   ]
  },
  {
   "cell_type": "code",
   "execution_count": 2,
   "metadata": {},
   "outputs": [],
   "source": [
    "# Initialize variables\n",
    "DB = ss.Database()\n",
    "SIZE = np.int64\n",
    "VECTORS = 2 ** 24\n",
    "DIMENSION = 2 ** 4\n",
    "RESULTS = 2 ** 3"
   ]
  },
  {
   "cell_type": "code",
   "execution_count": 3,
   "metadata": {},
   "outputs": [],
   "source": [
    "# Generate a query vector\n",
    "query_vector = np.random.uniform(low=np.iinfo(SIZE).min,\n",
    "                                 high=np.iinfo(SIZE).max, \n",
    "                                 size=DIMENSION)"
   ]
  },
  {
   "cell_type": "code",
   "execution_count": 4,
   "metadata": {},
   "outputs": [],
   "source": [
    "# Populate database\n",
    "DB.add_vectors(np.random.uniform(low=np.iinfo(SIZE).min, \n",
    "                                 high=np.iinfo(SIZE).max, \n",
    "                                 size=(VECTORS, DIMENSION)))"
   ]
  },
  {
   "cell_type": "code",
   "execution_count": 5,
   "metadata": {},
   "outputs": [],
   "source": [
    "# Search database, goal - approx 100ms\n",
    "distances, indices = DB.search(query_vector, RESULTS)"
   ]
  },
  {
   "cell_type": "code",
   "execution_count": 6,
   "metadata": {},
   "outputs": [
    {
     "name": "stdout",
     "output_type": "stream",
     "text": [
      "distance: 7.077518476670723e+18, index: 12202244\n",
      "distance: 7.31525597919093e+18, index: 4619040\n",
      "distance: 7.912929690512437e+18, index: 5756517\n",
      "distance: 8.124139809091419e+18, index: 8144071\n",
      "distance: 8.297196681141465e+18, index: 13457665\n",
      "distance: 8.394265845519368e+18, index: 1636146\n",
      "distance: 8.44114454431252e+18, index: 3907202\n",
      "distance: 8.462672594320588e+18, index: 13480475\n"
     ]
    }
   ],
   "source": [
    "# Print results\n",
    "for distance, index in zip(distances, indices):\n",
    "    print(f\"distance: {distance}, index: {index}\")"
   ]
  }
 ],
 "metadata": {
  "kernelspec": {
   "display_name": "venv",
   "language": "python",
   "name": "python3"
  },
  "language_info": {
   "codemirror_mode": {
    "name": "ipython",
    "version": 3
   },
   "file_extension": ".py",
   "mimetype": "text/x-python",
   "name": "python",
   "nbconvert_exporter": "python",
   "pygments_lexer": "ipython3",
   "version": "3.12.2"
  }
 },
 "nbformat": 4,
 "nbformat_minor": 2
}
