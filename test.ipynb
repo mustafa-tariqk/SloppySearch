{
 "cells": [
  {
   "cell_type": "code",
   "execution_count": 13,
   "metadata": {},
   "outputs": [
    {
     "name": "stdout",
     "output_type": "stream",
     "text": [
      "Collecting git+https://github.com/mustafa-tariqk/SloppySearch\n",
      "  Cloning https://github.com/mustafa-tariqk/SloppySearch to /private/var/folders/8g/m_pvkp691fd3fd80g3pjp5s80000gn/T/pip-req-build-ydwhaigt\n",
      "  Running command git clone --filter=blob:none --quiet https://github.com/mustafa-tariqk/SloppySearch /private/var/folders/8g/m_pvkp691fd3fd80g3pjp5s80000gn/T/pip-req-build-ydwhaigt\n",
      "  Resolved https://github.com/mustafa-tariqk/SloppySearch to commit 5c427efdb496a725f41fb3e1d2884e9fa7d41abf\n",
      "  Installing build dependencies ... \u001b[?25ldone\n",
      "\u001b[?25h  Getting requirements to build wheel ... \u001b[?25ldone\n",
      "\u001b[?25h  Preparing metadata (pyproject.toml) ... \u001b[?25ldone\n",
      "\u001b[?25hBuilding wheels for collected packages: sloppy_search\n",
      "  Building wheel for sloppy_search (pyproject.toml) ... \u001b[?25ldone\n",
      "\u001b[?25h  Created wheel for sloppy_search: filename=sloppy_search-0.0.0-py3-none-any.whl size=2294 sha256=02534a476d3b8cea7d0b27b40dde386eb94bc6c2a468f9a026e8bb0a2f5889c9\n",
      "  Stored in directory: /private/var/folders/8g/m_pvkp691fd3fd80g3pjp5s80000gn/T/pip-ephem-wheel-cache-jg_uue73/wheels/e1/38/34/7e5464195e80a5c359dc74433dce9a0d1a6a47709ac8bcf16b\n",
      "Successfully built sloppy_search\n",
      "Installing collected packages: sloppy_search\n",
      "Successfully installed sloppy_search-0.0.0\n",
      "Note: you may need to restart the kernel to use updated packages.\n"
     ]
    }
   ],
   "source": [
    "%pip install git+https://github.com/mustafa-tariqk/SloppySearch"
   ]
  },
  {
   "cell_type": "code",
   "execution_count": 12,
   "metadata": {},
   "outputs": [
    {
     "ename": "AttributeError",
     "evalue": "module 'sloppy_search' has no attribute 'Vector'",
     "output_type": "error",
     "traceback": [
      "\u001b[0;31m---------------------------------------------------------------------------\u001b[0m",
      "\u001b[0;31mAttributeError\u001b[0m                            Traceback (most recent call last)",
      "Cell \u001b[0;32mIn[12], line 3\u001b[0m\n\u001b[1;32m      1\u001b[0m \u001b[38;5;28;01mimport\u001b[39;00m \u001b[38;5;21;01msloppy_search\u001b[39;00m \u001b[38;5;28;01mas\u001b[39;00m \u001b[38;5;21;01mss\u001b[39;00m\n\u001b[1;32m      2\u001b[0m \u001b[38;5;66;03m# create 100 vectors\u001b[39;00m\n\u001b[0;32m----> 3\u001b[0m vectors \u001b[38;5;241m=\u001b[39m [\u001b[43mss\u001b[49m\u001b[38;5;241;43m.\u001b[39;49m\u001b[43mVector\u001b[49m([i, i\u001b[38;5;241m+\u001b[39m\u001b[38;5;241m1\u001b[39m, i\u001b[38;5;241m+\u001b[39m\u001b[38;5;241m2\u001b[39m]) \u001b[38;5;28;01mfor\u001b[39;00m i \u001b[38;5;129;01min\u001b[39;00m \u001b[38;5;28mrange\u001b[39m(\u001b[38;5;241m100\u001b[39m)]\n\u001b[1;32m      5\u001b[0m \u001b[38;5;66;03m# create a database\u001b[39;00m\n\u001b[1;32m      6\u001b[0m database \u001b[38;5;241m=\u001b[39m ss\u001b[38;5;241m.\u001b[39mDatabase()\n",
      "\u001b[0;31mAttributeError\u001b[0m: module 'sloppy_search' has no attribute 'Vector'"
     ]
    }
   ],
   "source": [
    "import sloppy_search as ss\n",
    "# create 100 vectors\n",
    "vectors = [ss.Vector([i, i+1, i+2]) for i in range(100)]\n",
    "\n",
    "# create a database\n",
    "database = ss.Database()\n",
    "for vector in vectors:\n",
    "    database.add_vector(vector)\n",
    "\n",
    "# create a query vector\n",
    "query_vector = ss.Vector([50, 51, 52])\n",
    "\n",
    "# search the database\n",
    "distances, indices = database.search(query_vector)"
   ]
  }
 ],
 "metadata": {
  "kernelspec": {
   "display_name": "venv",
   "language": "python",
   "name": "python3"
  },
  "language_info": {
   "codemirror_mode": {
    "name": "ipython",
    "version": 3
   },
   "file_extension": ".py",
   "mimetype": "text/x-python",
   "name": "python",
   "nbconvert_exporter": "python",
   "pygments_lexer": "ipython3",
   "version": "3.12.2"
  }
 },
 "nbformat": 4,
 "nbformat_minor": 2
}
