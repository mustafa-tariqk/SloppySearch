{
 "cells": [
  {
   "cell_type": "code",
   "execution_count": null,
   "metadata": {},
   "outputs": [],
   "source": [
    "%pip uninstall sloppy_search"
   ]
  },
  {
   "cell_type": "code",
   "execution_count": 5,
   "metadata": {},
   "outputs": [
    {
     "name": "stdout",
     "output_type": "stream",
     "text": [
      "Collecting git+https://github.com/mustafa-tariqk/SloppySearch\n",
      "  Cloning https://github.com/mustafa-tariqk/SloppySearch to /private/var/folders/8g/m_pvkp691fd3fd80g3pjp5s80000gn/T/pip-req-build-q6yc_uc6\n",
      "  Running command git clone --filter=blob:none --quiet https://github.com/mustafa-tariqk/SloppySearch /private/var/folders/8g/m_pvkp691fd3fd80g3pjp5s80000gn/T/pip-req-build-q6yc_uc6\n",
      "  Resolved https://github.com/mustafa-tariqk/SloppySearch to commit acb6e67b61c226771d16fc6e1d057dc5fc7d9858\n",
      "  Installing build dependencies ... \u001b[?25ldone\n",
      "\u001b[?25h  Getting requirements to build wheel ... \u001b[?25ldone\n",
      "\u001b[?25h  Preparing metadata (pyproject.toml) ... \u001b[?25ldone\n",
      "\u001b[?25hBuilding wheels for collected packages: sloppy_search\n",
      "  Building wheel for sloppy_search (pyproject.toml) ... \u001b[?25ldone\n",
      "\u001b[?25h  Created wheel for sloppy_search: filename=sloppy_search-0.0.0-py3-none-any.whl size=2236 sha256=b979866bc2197fdffea72091d7cc9aa3129a9fa5f26f3ce853bd29ef88f5b237\n",
      "  Stored in directory: /private/var/folders/8g/m_pvkp691fd3fd80g3pjp5s80000gn/T/pip-ephem-wheel-cache-qxwsffwh/wheels/e1/38/34/7e5464195e80a5c359dc74433dce9a0d1a6a47709ac8bcf16b\n",
      "Successfully built sloppy_search\n",
      "Installing collected packages: sloppy_search\n",
      "Successfully installed sloppy_search-0.0.0\n",
      "Note: you may need to restart the kernel to use updated packages.\n"
     ]
    }
   ],
   "source": [
    "%pip install git+https://github.com/mustafa-tariqk/SloppySearch"
   ]
  },
  {
   "cell_type": "code",
   "execution_count": null,
   "metadata": {},
   "outputs": [],
   "source": [
    "import sloppy_search as ss"
   ]
  },
  {
   "cell_type": "code",
   "execution_count": 1,
   "metadata": {},
   "outputs": [],
   "source": [
    "# create 1 billion vectors\n",
    "vectors = [ss.Vector([i, i+1, i+2]) for i in range(1000000000)]\n",
    "\n",
    "# create a database\n",
    "database = ss.Database()\n",
    "for vector in vectors:\n",
    "    database.add_vector(vector)\n",
    "\n",
    "# create a query vector\n",
    "query_vector = ss.Vector([50, 51, 52])\n",
    "\n",
    "# search the database\n",
    "distances, indices = database.search(query_vector)"
   ]
  }
 ],
 "metadata": {
  "kernelspec": {
   "display_name": "venv",
   "language": "python",
   "name": "python3"
  },
  "language_info": {
   "codemirror_mode": {
    "name": "ipython",
    "version": 3
   },
   "file_extension": ".py",
   "mimetype": "text/x-python",
   "name": "python",
   "nbconvert_exporter": "python",
   "pygments_lexer": "ipython3",
   "version": "3.12.2"
  }
 },
 "nbformat": 4,
 "nbformat_minor": 2
}
