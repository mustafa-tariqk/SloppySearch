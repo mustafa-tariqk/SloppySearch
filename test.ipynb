{
 "cells": [
  {
   "cell_type": "code",
   "execution_count": 2,
   "metadata": {},
   "outputs": [],
   "source": [
    "from src import sloppy_search as ss\n",
    "import numpy as np"
   ]
  },
  {
   "cell_type": "code",
   "execution_count": 8,
   "metadata": {},
   "outputs": [
    {
     "name": "stdout",
     "output_type": "stream",
     "text": [
      "distance: 0.0, index: 50\n",
      "distance: 1.7320508075688772, index: 49\n",
      "distance: 1.7320508075688772, index: 51\n",
      "distance: 3.4641016151377544, index: 48\n",
      "distance: 3.4641016151377544, index: 52\n",
      "distance: 5.196152422706632, index: 47\n",
      "distance: 5.196152422706632, index: 53\n",
      "distance: 6.928203230275509, index: 46\n",
      "distance: 6.928203230275509, index: 54\n",
      "distance: 8.660254037844387, index: 55\n"
     ]
    }
   ],
   "source": [
    "# create a db\n",
    "db = ss.Database()\n",
    "for i in range(10_000_000):\n",
    "    db.add_vector(np.array([i, i+1, i+2]))\n",
    "\n",
    "# create a query vector\n",
    "query_vector = np.array([50, 51, 52])\n",
    "\n",
    "# search the db\n",
    "distances, indices = db.search(query_vector)\n",
    "\n",
    "# print the results\n",
    "for distance, index in zip(distances, indices):\n",
    "    print(f\"distance: {distance}, index: {index}\")"
   ]
  }
 ],
 "metadata": {
  "kernelspec": {
   "display_name": "venv",
   "language": "python",
   "name": "python3"
  },
  "language_info": {
   "codemirror_mode": {
    "name": "ipython",
    "version": 3
   },
   "file_extension": ".py",
   "mimetype": "text/x-python",
   "name": "python",
   "nbconvert_exporter": "python",
   "pygments_lexer": "ipython3",
   "version": "3.12.2"
  }
 },
 "nbformat": 4,
 "nbformat_minor": 2
}
