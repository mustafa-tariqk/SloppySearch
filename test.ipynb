{
 "cells": [
  {
   "cell_type": "code",
   "execution_count": 3,
   "metadata": {},
   "outputs": [
    {
     "name": "stdout",
     "output_type": "stream",
     "text": [
      "Collecting git+https://github.com/mustafa-tariqk/SloppySearch\n",
      "  Cloning https://github.com/mustafa-tariqk/SloppySearch to /private/var/folders/8g/m_pvkp691fd3fd80g3pjp5s80000gn/T/pip-req-build-13u6xbpe\n",
      "  Running command git clone --filter=blob:none --quiet https://github.com/mustafa-tariqk/SloppySearch /private/var/folders/8g/m_pvkp691fd3fd80g3pjp5s80000gn/T/pip-req-build-13u6xbpe\n",
      "  Resolved https://github.com/mustafa-tariqk/SloppySearch to commit d1543648c70d93be78c4891bb49cd640eec00216\n",
      "  Installing build dependencies ... \u001b[?25ldone\n",
      "\u001b[?25h  Getting requirements to build wheel ... \u001b[?25ldone\n",
      "\u001b[?25h  Preparing metadata (pyproject.toml) ... \u001b[?25ldone\n",
      "\u001b[?25hBuilding wheels for collected packages: sloppy_search\n",
      "  Building wheel for sloppy_search (pyproject.toml) ... \u001b[?25ldone\n",
      "\u001b[?25h  Created wheel for sloppy_search: filename=sloppy_search-0.0.0-py3-none-any.whl size=2391 sha256=3687bdd62033b17d1107e95c5ab3d3bfa75ff4540559db7233ffc56af2a052cd\n",
      "  Stored in directory: /private/var/folders/8g/m_pvkp691fd3fd80g3pjp5s80000gn/T/pip-ephem-wheel-cache-9ihku9ba/wheels/e1/38/34/7e5464195e80a5c359dc74433dce9a0d1a6a47709ac8bcf16b\n",
      "Successfully built sloppy_search\n",
      "Installing collected packages: sloppy_search\n",
      "Successfully installed sloppy_search-0.0.0\n",
      "Note: you may need to restart the kernel to use updated packages.\n"
     ]
    }
   ],
   "source": [
    "%pip install git+https://github.com/mustafa-tariqk/SloppySearch"
   ]
  },
  {
   "cell_type": "code",
   "execution_count": 4,
   "metadata": {},
   "outputs": [
    {
     "ename": "ImportError",
     "evalue": "cannot import name 'db' from 'sloppy_search' (/Users/mustafa/Documents/sloppy_search/venv/lib/python3.12/site-packages/sloppy_search/__init__.py)",
     "output_type": "error",
     "traceback": [
      "\u001b[0;31m---------------------------------------------------------------------------\u001b[0m",
      "\u001b[0;31mImportError\u001b[0m                               Traceback (most recent call last)",
      "Cell \u001b[0;32mIn[4], line 1\u001b[0m\n\u001b[0;32m----> 1\u001b[0m \u001b[38;5;28;01mfrom\u001b[39;00m \u001b[38;5;21;01msloppy_search\u001b[39;00m \u001b[38;5;28;01mimport\u001b[39;00m db\n",
      "\u001b[0;31mImportError\u001b[0m: cannot import name 'db' from 'sloppy_search' (/Users/mustafa/Documents/sloppy_search/venv/lib/python3.12/site-packages/sloppy_search/__init__.py)"
     ]
    }
   ],
   "source": [
    "from sloppy_search import db"
   ]
  }
 ],
 "metadata": {
  "kernelspec": {
   "display_name": "venv",
   "language": "python",
   "name": "python3"
  },
  "language_info": {
   "codemirror_mode": {
    "name": "ipython",
    "version": 3
   },
   "file_extension": ".py",
   "mimetype": "text/x-python",
   "name": "python",
   "nbconvert_exporter": "python",
   "pygments_lexer": "ipython3",
   "version": "3.12.2"
  }
 },
 "nbformat": 4,
 "nbformat_minor": 2
}
